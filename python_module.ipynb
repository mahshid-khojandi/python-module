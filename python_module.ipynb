{
  "nbformat": 4,
  "nbformat_minor": 0,
  "metadata": {
    "colab": {
      "provenance": [],
      "authorship_tag": "ABX9TyNtKBge7zgzwke2BE3sVbwc",
      "include_colab_link": true
    },
    "kernelspec": {
      "name": "python3",
      "display_name": "Python 3"
    },
    "language_info": {
      "name": "python"
    }
  },
  "cells": [
    {
      "cell_type": "markdown",
      "metadata": {
        "id": "view-in-github",
        "colab_type": "text"
      },
      "source": [
        "<a href=\"https://colab.research.google.com/github/mahshid-khojandi/python-module/blob/main/python_module.ipynb\" target=\"_parent\"><img src=\"https://colab.research.google.com/assets/colab-badge.svg\" alt=\"Open In Colab\"/></a>"
      ]
    },
    {
      "cell_type": "markdown",
      "source": [
        "Each Python file with .py extension is a module\n",
        "\n",
        "Suppose we have a file called a one.py\n",
        "\n",
        "Now we want to call this file in another file. This is done by the import Name_Module\n",
        "\n",
        "We write in another file Import one In this file that **file(one.py)** will be called and run.\n"
      ],
      "metadata": {
        "id": "OZofmjGSH36e"
      }
    },
    {
      "cell_type": "code",
      "source": [
        "# in one.py\n",
        "def write():\n",
        "  print('hello')\n",
        "\n",
        "# in two.py\n",
        "# call module\n",
        "import one\n",
        "# call function\n",
        "one.write()\n",
        "\n",
        "# output\n",
        "hello"
      ],
      "metadata": {
        "id": "b7bmDP9wLGGn"
      },
      "execution_count": null,
      "outputs": []
    },
    {
      "cell_type": "markdown",
      "source": [
        "Now, if there is a lot of function in one file, in the other file we want one of this function in the other file we have to use the **from** command\n",
        "\n",
        "from **Name_Module** import **Name_function**"
      ],
      "metadata": {
        "id": "6cL_NSUlMPrU"
      }
    },
    {
      "cell_type": "code",
      "source": [
        "# in one.py\n",
        "def write():\n",
        "  print('hello')\n",
        "\n",
        "def say():\n",
        "  print('bye')\n",
        "\n",
        "\n",
        "\n",
        "# in two.py\n",
        "# call module\n",
        "from one import say\n",
        "# call function\n",
        "say()\n",
        "\n",
        "# output\n",
        "bye"
      ],
      "metadata": {
        "id": "qAssHkwaNT38"
      },
      "execution_count": null,
      "outputs": []
    },
    {
      "cell_type": "markdown",
      "source": [
        "For functions whose names are long, a nickname can be considered.\n",
        "by as"
      ],
      "metadata": {
        "id": "f-EuHulNOPr3"
      }
    },
    {
      "cell_type": "code",
      "source": [
        "# in one.py\n",
        "def write():\n",
        "  print('hello')\n",
        "\n",
        "def say_bye_friend():\n",
        "  print('bye')\n",
        "\n",
        "\n",
        "\n",
        "# in two.py\n",
        "# call module\n",
        "from one import say_bye_friend as say\n",
        "# call function\n",
        "say()\n",
        "\n",
        "# output\n",
        "bye"
      ],
      "metadata": {
        "id": "GOHR_KtCOlpX"
      },
      "execution_count": null,
      "outputs": []
    }
  ]
}